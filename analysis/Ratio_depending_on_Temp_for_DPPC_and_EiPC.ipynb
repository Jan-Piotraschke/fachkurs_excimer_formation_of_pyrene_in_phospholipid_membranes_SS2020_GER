{
 "cells": [
  {
   "cell_type": "code",
   "execution_count": 8,
   "metadata": {
    "id": "vC5ComkTPAQT"
   },
   "outputs": [],
   "source": [
    "import pandas as pd\n",
    "import matplotlib.pyplot as plt\n",
    "import numpy as np"
   ]
  },
  {
   "cell_type": "code",
   "execution_count": 9,
   "metadata": {
    "id": "eOAbFyXbPH_K"
   },
   "outputs": [],
   "source": [
    "#testPd = pd.read_csv('new_pyren.txt', header=None, sep='\\t')#,index_col=0)\n",
    "\n"
   ]
  },
  {
   "cell_type": "code",
   "execution_count": 10,
   "metadata": {
    "id": "Goz8INma2J5u"
   },
   "outputs": [],
   "source": [
    "testPd = pd.read_csv('data/TransformedData->excimer_monomer_ratio.txt', header=None, sep='\\t')#,index_col=0)\n"
   ]
  },
  {
   "cell_type": "code",
   "execution_count": 11,
   "metadata": {
    "id": "Er94iIPREX_b"
   },
   "outputs": [],
   "source": [
    "testPd.columns = testPd.iloc[0]\n",
    "testPd = testPd.drop(testPd.index[0])\n",
    "testnp = np.array(testPd.set_index(testPd.columns[0]))"
   ]
  },
  {
   "cell_type": "code",
   "execution_count": 12,
   "metadata": {
    "id": "8G41u3_gElI6"
   },
   "outputs": [],
   "source": [
    "#dataDiffusion = pd.DataFrame(testnp.astype('float64')* 1e-9,columns=['Ei-PC', 'DPPC'], index=[25,35,45])\n"
   ]
  },
  {
   "cell_type": "code",
   "execution_count": 13,
   "metadata": {
    "id": "UFYBGJVDEfUx"
   },
   "outputs": [],
   "source": [
    "exMono = pd.DataFrame(testnp.astype('float64'),columns=['DPPC', 'Ei-PC'], index=[25,27,29,31,33,35,37,39,41,43,45])"
   ]
  },
  {
   "cell_type": "code",
   "execution_count": 14,
   "metadata": {
    "colab": {
     "base_uri": "https://localhost:8080/",
     "height": 294
    },
    "executionInfo": {
     "elapsed": 2747,
     "status": "ok",
     "timestamp": 1594996740914,
     "user": {
      "displayName": "Jan Piotraschke",
      "photoUrl": "",
      "userId": "09200600976315932651"
     },
     "user_tz": -120
    },
    "id": "9Q1gVQW22uI2",
    "outputId": "28b42424-ef1c-45b6-afde-119ba748ed00"
   },
   "outputs": [
    {
     "name": "stderr",
     "output_type": "stream",
     "text": [
      "No handles with labels found to put in legend.\n"
     ]
    },
    {
     "data": {
      "image/png": "[encoded data removed]",
      "text/plain": [
       "<Figure size 576x288 with 1 Axes>"
      ]
     },
     "metadata": {
      "needs_background": "light"
     },
     "output_type": "display_data"
    }
   ],
   "source": [
    "fig = plt.figure(1, figsize=(8,4))\n",
    "ax = plt.axes()\n",
    "ax.set_xlabel('Temperatur T[°C]')\n",
    "#ax.set_ylabel('Diffusionskoeffizient $D_{diff}$ [$m^2 s^{-1}$]')\n",
    "ax.set_ylabel('Excimer:Monomer Verhältnis')\n",
    "\n",
    "ax.spines['right'].set_visible(False)\n",
    "ax.spines['top'].set_visible(False)\n",
    "ax.legend()\n",
    "ax.yaxis.grid(alpha=0.4)\n",
    "#ax.xaxis.set_ticks([25.0,35.0,45.0])\n",
    "ax.xaxis.set_ticks([25,27,29,31,33,35,37,39,41,43,45])\n",
    "plt.plot(exMono['DPPC'],'x-',label=\"DPPC\")\n",
    "plt.plot(exMono['Ei-PC'],'x-',label=\"Ei-PC\")\n",
    "\n",
    "#plt.plot(dataDiffusion['DPPC'],'x-',label=\"DPPC\")\n",
    "#plt.plot(dataDiffusion['Ei-PC'],'x-',label=\"DPPC\")\n",
    "\n",
    "plt.legend(frameon=False)\n",
    "\n",
    "#plt.plot(dataDiffusion['DPPC'])\n",
    "plt.savefig('reports/Ex-Mono.png',dpi=600, bbox_inches='tight')\n",
    "plt.show()\n",
    "#plt.savefig('reports/Ex-Mono.png',dpi=600, bbox_inches='tight')\n",
    "#plt.savefig('reports/Ei-PC.png',dpi=600, bbox_inches='tight')\n",
    "#plt.savefig('reports/DPPC.png',dpi=600, bbox_inches='tight')"
   ]
  }
 ],
 "metadata": {
  "colab": {
   "authorship_tag": "ABX9TyOP2wg7kOp+MqAisM2ZCGEw",
   "collapsed_sections": [],
   "name": "DPPC_Ei-PC.ipynb",
   "provenance": [],
   "toc_visible": true
  },
  "kernelspec": {
   "display_name": "Python 3",
   "language": "python",
   "name": "python3"
  },
  "language_info": {
   "codemirror_mode": {
    "name": "ipython",
    "version": 3
   },
   "file_extension": ".py",
   "mimetype": "text/x-python",
   "name": "python",
   "nbconvert_exporter": "python",
   "pygments_lexer": "ipython3",
   "version": "3.9.6"
  }
 },
 "nbformat": 4,
 "nbformat_minor": 1
}
