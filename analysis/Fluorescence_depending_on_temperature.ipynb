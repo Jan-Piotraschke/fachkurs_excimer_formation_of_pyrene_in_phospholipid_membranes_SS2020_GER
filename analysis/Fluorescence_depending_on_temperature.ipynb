{
 "cells": [
  {
   "cell_type": "code",
   "execution_count": 1,
   "metadata": {
    "id": "2Lbh7FK0FREg"
   },
   "outputs": [
    {
     "name": "stdout",
     "output_type": "stream",
     "text": [
      "Requirement already satisfied: pandas in /usr/local/lib/python3.9/site-packages (1.2.3)\n",
      "Requirement already satisfied: matplotlib in /usr/local/lib/python3.9/site-packages (3.4.1)\n",
      "Requirement already satisfied: cycler>=0.10 in /usr/local/lib/python3.9/site-packages (from matplotlib) (0.10.0)\n",
      "Requirement already satisfied: numpy>=1.16 in /usr/local/lib/python3.9/site-packages (from matplotlib) (1.20.2)\n",
      "Requirement already satisfied: python-dateutil>=2.7 in /usr/local/lib/python3.9/site-packages (from matplotlib) (2.8.1)\n",
      "Requirement already satisfied: kiwisolver>=1.0.1 in /usr/local/lib/python3.9/site-packages (from matplotlib) (1.3.1)\n",
      "Requirement already satisfied: pillow>=6.2.0 in /usr/local/lib/python3.9/site-packages (from matplotlib) (8.2.0)\n",
      "Requirement already satisfied: pyparsing>=2.2.1 in /usr/local/lib/python3.9/site-packages (from matplotlib) (2.4.7)\n",
      "Requirement already satisfied: six in /usr/local/lib/python3.9/site-packages (from cycler>=0.10->matplotlib) (1.15.0)\n",
      "Requirement already satisfied: pytz>=2017.3 in /usr/local/lib/python3.9/site-packages (from pandas) (2021.1)\n",
      "\u001b[33mWARNING: You are using pip version 21.0.1; however, version 21.1 is available.\n",
      "You should consider upgrading via the '/usr/local/opt/python@3.9/bin/python3.9 -m pip install --upgrade pip' command.\u001b[0m\n"
     ]
    }
   ],
   "source": [
    "!pip3 install pandas matplotlib\n",
    "\n",
    "import pandas as pd\n",
    "import matplotlib.pyplot as plt\n",
    "import numpy as np"
   ]
  },
  {
   "cell_type": "code",
   "execution_count": 2,
   "metadata": {
    "id": "VGLXm4CyFkaI"
   },
   "outputs": [],
   "source": [
    "testPd = pd.read_csv('data/ExtractedData->fluorescence_depending_on_temperature.txt', header=None, sep='\\t',index_col=0)\n",
    "testPd.columns = testPd.iloc[0]\n",
    "testPd = testPd.drop(testPd.index[0])\n",
    "newPd = pd.DataFrame(np.array(testPd).astype('float64'), index=testPd.index.tolist(), columns=testPd.columns.tolist())"
   ]
  },
  {
   "cell_type": "code",
   "execution_count": 3,
   "metadata": {
    "colab": {
     "base_uri": "https://localhost:8080/",
     "height": 383
    },
    "executionInfo": {
     "elapsed": 1030,
     "status": "ok",
     "timestamp": 1595062176516,
     "user": {
      "displayName": "Jan Piotraschke",
      "photoUrl": "",
      "userId": "09200600976315932651"
     },
     "user_tz": -120
    },
    "id": "PkiC_p-bGDfh",
    "outputId": "af3efcd6-7bf8-410d-8a86-cc808c819220"
   },
   "outputs": [
    {
     "data": {
      "text/html": [
       "<div>\n",
       "<style scoped>\n",
       "    .dataframe tbody tr th:only-of-type {\n",
       "        vertical-align: middle;\n",
       "    }\n",
       "\n",
       "    .dataframe tbody tr th {\n",
       "        vertical-align: top;\n",
       "    }\n",
       "\n",
       "    .dataframe thead th {\n",
       "        text-align: right;\n",
       "    }\n",
       "</style>\n",
       "<table border=\"1\" class=\"dataframe\">\n",
       "  <thead>\n",
       "    <tr style=\"text-align: right;\">\n",
       "      <th></th>\n",
       "      <th>393_Ei-PC</th>\n",
       "      <th>470_Ei-PC</th>\n",
       "      <th>393_DPPC</th>\n",
       "      <th>470_DPPC</th>\n",
       "    </tr>\n",
       "  </thead>\n",
       "  <tbody>\n",
       "    <tr>\n",
       "      <th>25.0</th>\n",
       "      <td>1.585</td>\n",
       "      <td>0.153</td>\n",
       "      <td>2.340</td>\n",
       "      <td>0.610</td>\n",
       "    </tr>\n",
       "    <tr>\n",
       "      <th>27.0</th>\n",
       "      <td>1.479</td>\n",
       "      <td>0.148</td>\n",
       "      <td>2.202</td>\n",
       "      <td>0.577</td>\n",
       "    </tr>\n",
       "    <tr>\n",
       "      <th>29.0</th>\n",
       "      <td>1.410</td>\n",
       "      <td>0.147</td>\n",
       "      <td>2.136</td>\n",
       "      <td>0.559</td>\n",
       "    </tr>\n",
       "    <tr>\n",
       "      <th>31.0</th>\n",
       "      <td>1.346</td>\n",
       "      <td>0.147</td>\n",
       "      <td>2.178</td>\n",
       "      <td>0.505</td>\n",
       "    </tr>\n",
       "    <tr>\n",
       "      <th>33.0</th>\n",
       "      <td>1.289</td>\n",
       "      <td>0.147</td>\n",
       "      <td>2.218</td>\n",
       "      <td>0.421</td>\n",
       "    </tr>\n",
       "    <tr>\n",
       "      <th>35.0</th>\n",
       "      <td>1.235</td>\n",
       "      <td>0.149</td>\n",
       "      <td>2.219</td>\n",
       "      <td>0.398</td>\n",
       "    </tr>\n",
       "    <tr>\n",
       "      <th>37.0</th>\n",
       "      <td>1.186</td>\n",
       "      <td>0.147</td>\n",
       "      <td>2.153</td>\n",
       "      <td>0.378</td>\n",
       "    </tr>\n",
       "    <tr>\n",
       "      <th>39.0</th>\n",
       "      <td>1.143</td>\n",
       "      <td>0.143</td>\n",
       "      <td>2.045</td>\n",
       "      <td>0.357</td>\n",
       "    </tr>\n",
       "    <tr>\n",
       "      <th>41.0</th>\n",
       "      <td>1.108</td>\n",
       "      <td>0.147</td>\n",
       "      <td>1.865</td>\n",
       "      <td>0.296</td>\n",
       "    </tr>\n",
       "    <tr>\n",
       "      <th>43.0</th>\n",
       "      <td>1.071</td>\n",
       "      <td>0.142</td>\n",
       "      <td>1.680</td>\n",
       "      <td>0.217</td>\n",
       "    </tr>\n",
       "    <tr>\n",
       "      <th>45.0</th>\n",
       "      <td>1.075</td>\n",
       "      <td>0.150</td>\n",
       "      <td>1.622</td>\n",
       "      <td>0.214</td>\n",
       "    </tr>\n",
       "  </tbody>\n",
       "</table>\n",
       "</div>"
      ],
      "text/plain": [
       "      393_Ei-PC  470_Ei-PC  393_DPPC  470_DPPC\n",
       "25.0      1.585      0.153     2.340     0.610\n",
       "27.0      1.479      0.148     2.202     0.577\n",
       "29.0      1.410      0.147     2.136     0.559\n",
       "31.0      1.346      0.147     2.178     0.505\n",
       "33.0      1.289      0.147     2.218     0.421\n",
       "35.0      1.235      0.149     2.219     0.398\n",
       "37.0      1.186      0.147     2.153     0.378\n",
       "39.0      1.143      0.143     2.045     0.357\n",
       "41.0      1.108      0.147     1.865     0.296\n",
       "43.0      1.071      0.142     1.680     0.217\n",
       "45.0      1.075      0.150     1.622     0.214"
      ]
     },
     "execution_count": 3,
     "metadata": {},
     "output_type": "execute_result"
    }
   ],
   "source": [
    "newPd"
   ]
  },
  {
   "cell_type": "code",
   "execution_count": 4,
   "metadata": {
    "colab": {
     "base_uri": "https://localhost:8080/",
     "height": 298
    },
    "executionInfo": {
     "elapsed": 2601,
     "status": "ok",
     "timestamp": 1595062588069,
     "user": {
      "displayName": "Jan Piotraschke",
      "photoUrl": "",
      "userId": "09200600976315932651"
     },
     "user_tz": -120
    },
    "id": "iX99Pt_kFmjP",
    "outputId": "7e500370-7737-434b-a146-63ebaea6ee28"
   },
   "outputs": [
    {
     "name": "stderr",
     "output_type": "stream",
     "text": [
      "No handles with labels found to put in legend.\n"
     ]
    },
    {
     "data": {
      "image/png": "[encoded data removed]",
      "text/plain": [
       "<Figure size 576x288 with 1 Axes>"
      ]
     },
     "metadata": {
      "needs_background": "light"
     },
     "output_type": "display_data"
    }
   ],
   "source": [
    "fig = plt.figure(1, figsize=(8,4))\n",
    "ax = plt.axes()\n",
    "ax.set_xlabel('Temperatur T[°C]')\n",
    "ax.set_ylabel('Fluoreszensintensität [a.u.]')\n",
    "\n",
    "ax.spines['right'].set_visible(False)\n",
    "ax.spines['top'].set_visible(False)\n",
    "ax.legend()\n",
    "ax.yaxis.grid(alpha=0.4)\n",
    "\n",
    "\n",
    "#plt.plot(newPd['393_Ei-PC'],'x-',label=\"Ei-PC\")\n",
    "#plt.plot(newPd['393_DPPC'],'x-',label=\"DPPC\")\n",
    "plt.plot(newPd['470_Ei-PC'],'x-',label=\"Ei-PC\")\n",
    "plt.plot(newPd['470_DPPC'],'x-',label=\"DPPC\")\n",
    "\n",
    "plt.legend(frameon=False)\n",
    "\n",
    "plt.savefig('reports/Excimer_Temp.png',dpi=600, bbox_inches='tight')\n",
    "#plt.savefig('reports/Monomer_Temp.png',dpi=600, bbox_inches='tight')\n",
    "\n",
    "plt.show()"
   ]
  },
  {
   "cell_type": "code",
   "execution_count": null,
   "metadata": {},
   "outputs": [],
   "source": []
  }
 ],
 "metadata": {
  "colab": {
   "authorship_tag": "ABX9TyMxfrfwlNvoF3cmjsRBWygT",
   "collapsed_sections": [],
   "name": "Temp_dependet.ipynb",
   "provenance": []
  },
  "kernelspec": {
   "display_name": "Python 3",
   "language": "python",
   "name": "python3"
  },
  "language_info": {
   "codemirror_mode": {
    "name": "ipython",
    "version": 3
   },
   "file_extension": ".py",
   "mimetype": "text/x-python",
   "name": "python",
   "nbconvert_exporter": "python",
   "pygments_lexer": "ipython3",
   "version": "3.9.4"
  }
 },
 "nbformat": 4,
 "nbformat_minor": 1
}
