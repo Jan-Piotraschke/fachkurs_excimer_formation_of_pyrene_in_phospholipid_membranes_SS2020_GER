{
 "cells": [
  {
   "cell_type": "code",
   "execution_count": 1,
   "metadata": {
    "id": "o_CGLndnXcct"
   },
   "outputs": [
    {
     "name": "stdout",
     "output_type": "stream",
     "text": [
      "Requirement already satisfied: pandas in /usr/local/lib/python3.9/site-packages (1.2.3)\n",
      "Requirement already satisfied: matplotlib in /usr/local/lib/python3.9/site-packages (3.4.1)\n",
      "Requirement already satisfied: numpy>=1.16.5 in /usr/local/lib/python3.9/site-packages (from pandas) (1.20.2)\n",
      "Requirement already satisfied: python-dateutil>=2.7.3 in /usr/local/lib/python3.9/site-packages (from pandas) (2.8.1)\n",
      "Requirement already satisfied: pytz>=2017.3 in /usr/local/lib/python3.9/site-packages (from pandas) (2021.1)\n",
      "Requirement already satisfied: six>=1.5 in /usr/local/lib/python3.9/site-packages (from python-dateutil>=2.7.3->pandas) (1.12.0)\n",
      "Requirement already satisfied: pillow>=6.2.0 in /usr/local/lib/python3.9/site-packages (from matplotlib) (8.2.0)\n",
      "Requirement already satisfied: kiwisolver>=1.0.1 in /usr/local/lib/python3.9/site-packages (from matplotlib) (1.3.1)\n",
      "Requirement already satisfied: cycler>=0.10 in /usr/local/lib/python3.9/site-packages (from matplotlib) (0.10.0)\n",
      "Requirement already satisfied: pyparsing>=2.2.1 in /usr/local/lib/python3.9/site-packages (from matplotlib) (2.4.7)\n"
     ]
    }
   ],
   "source": [
    "!pip3 install pandas matplotlib\n",
    "\n",
    "import pandas as pd\n",
    "import matplotlib.pyplot as plt\n",
    "import numpy as np"
   ]
  },
  {
   "cell_type": "code",
   "execution_count": 2,
   "metadata": {
    "id": "tMacciqTXkT8"
   },
   "outputs": [],
   "source": [
    "testPd = pd.read_csv('data/Pyren-EiPC_Device3_c.csv', header=None, sep=';',index_col=0)\n",
    "\n",
    "testPd.columns = testPd.iloc[0]\n",
    "testPd = testPd.drop(testPd.index[0])\n",
    "newPd = pd.DataFrame(np.array(testPd).astype('float64'), index=testPd.index.tolist(), columns=testPd.columns.tolist())"
   ]
  },
  {
   "cell_type": "code",
   "execution_count": 3,
   "metadata": {
    "id": "iMCoEjhmYNeE"
   },
   "outputs": [],
   "source": [
    "testPd2 = pd.read_csv('data/Pyren-EiPC_Device4_c.csv', header=None, sep=';',index_col=0)\n",
    "\n",
    "testPd2.columns = testPd2.iloc[0]\n",
    "testPd2 = testPd2.drop(testPd2.index[0])\n",
    "newPd2 = pd.DataFrame(np.array(testPd2).astype('float64'), index=testPd2.index.tolist(), columns=testPd2.columns.tolist())"
   ]
  },
  {
   "cell_type": "code",
   "execution_count": 8,
   "metadata": {
    "colab": {
     "base_uri": "https://localhost:8080/",
     "height": 294
    },
    "id": "ZB4fr5GFXx5B",
    "outputId": "6bb5c9da-de20-4e1d-b1a2-ba6c63c49944"
   },
   "outputs": [
    {
     "name": "stderr",
     "output_type": "stream",
     "text": [
      "No handles with labels found to put in legend.\n"
     ]
    },
    {
     "data": {
      "image/png": "[encoded data removed]",
      "text/plain": [
       "<Figure size 576x288 with 1 Axes>"
      ]
     },
     "metadata": {
      "needs_background": "light"
     },
     "output_type": "display_data"
    }
   ],
   "source": [
    "plt.figure(figsize=(8,4))\n",
    "\n",
    "ax = plt.axes()\n",
    "ax.set_xlabel('Lipid:Pyren-Verhältnis')\n",
    "ax.set_ylabel('Fluoreszensintensität [a.u.]')\n",
    "\n",
    "ax.spines['right'].set_visible(False)\n",
    "ax.spines['top'].set_visible(False)\n",
    "ax.legend()\n",
    "ax.yaxis.grid(alpha=0.4)\n",
    "\n",
    "  \n",
    "#plt.plot(pd.DataFrame(newPd.loc[393])[393.0],'x',label='Gerät 3 - Monomer - 393nm')\n",
    "#plt.plot(pd.DataFrame(newPd.loc[470])[470.0],'x',label='Gerät 3 - Excimer - 470nm')\n",
    "plt.plot(pd.DataFrame(newPd2.loc[393])[393.0],'x',label='Gerät 4 - Monomer - 393nm')\n",
    "plt.plot(pd.DataFrame(newPd2.loc[470])[470.0],'x',label='Gerät 4 - Excimer - 470nm')\n",
    "\n",
    "\n",
    "\n",
    "plt.legend(frameon=False, loc=\"upper right\")\n",
    "\n",
    "#plt.savefig('reports/Konz_Verh_Device3.png',dpi=600, bbox_inches='tight')\n",
    "plt.savefig('reports/Konz_Verh_Device4.png',dpi=600, bbox_inches='tight')\n",
    "#plt.savefig('reports/Monomer_Temp.png',dpi=600, bbox_inches='tight')\n",
    "\n",
    "plt.show()"
   ]
  },
  {
   "cell_type": "code",
   "execution_count": null,
   "metadata": {},
   "outputs": [],
   "source": []
  }
 ],
 "metadata": {
  "colab": {
   "collapsed_sections": [],
   "name": "pyren_conc.ipynb",
   "provenance": []
  },
  "kernelspec": {
   "display_name": "Python 3",
   "language": "python",
   "name": "python3"
  },
  "language_info": {
   "codemirror_mode": {
    "name": "ipython",
    "version": 3
   },
   "file_extension": ".py",
   "mimetype": "text/x-python",
   "name": "python",
   "nbconvert_exporter": "python",
   "pygments_lexer": "ipython3",
   "version": "3.9.6"
  }
 },
 "nbformat": 4,
 "nbformat_minor": 1
}
